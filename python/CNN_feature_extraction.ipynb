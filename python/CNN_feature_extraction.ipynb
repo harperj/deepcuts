{
 "cells": [
  {
   "cell_type": "code",
   "execution_count": 44,
   "metadata": {
    "collapsed": true
   },
   "outputs": [],
   "source": [
    "import numpy as np\n",
    "import matplotlib.pyplot as plt\n",
    "from glob import glob\n",
    "import os\n",
    "\n",
    "%matplotlib inline"
   ]
  },
  {
   "cell_type": "code",
   "execution_count": 45,
   "metadata": {
    "collapsed": true
   },
   "outputs": [],
   "source": [
    "## load frame pairs\n",
    "# iterate through frames, load this frame and the next\n",
    "## run lums_diff and rgb_diff\n",
    "## save 4 images in target directory\n",
    "\n",
    "# need source and target directories"
   ]
  },
  {
   "cell_type": "code",
   "execution_count": 46,
   "metadata": {
    "collapsed": false
   },
   "outputs": [],
   "source": [
    "def lums_diff(im1, im2):\n",
    "    assert(im1.shape[2] == 3)\n",
    "    assert(im2.shape[2] == 3)\n",
    "    \n",
    "    def lum(im):\n",
    "        return 0.2126 * im[:, :, 0] + 0.7152 * im[:, :, 1] + 0.0722 * im[:, :, 2]\n",
    "    return lum(im1) - lum(im2)\n",
    "\n",
    "def rgb_diff(im1, im2):\n",
    "    assert(im1.shape[2] == 3)\n",
    "    assert(im2.shape[2] == 3)\n",
    "    \n",
    "    r_diff = im1[:, :, 0] - im2[:, :, 0]\n",
    "    g_diff = im1[:, :, 1] - im2[:, :, 1]\n",
    "    b_diff = im1[:, :, 2] - im2[:, :, 2]\n",
    "    return r_diff, g_diff, b_diff"
   ]
  },
  {
   "cell_type": "code",
   "execution_count": 60,
   "metadata": {
    "collapsed": false
   },
   "outputs": [
    {
     "name": "stdout",
     "output_type": "stream",
     "text": [
      ".././signals/anni005/bw/000002.jpg\n",
      ".././signals/anni005/bw/000001.jpg\n",
      ".././signals/anni006/bw/000002.jpg\n",
      ".././signals/anni006/bw/000001.jpg\n"
     ]
    }
   ],
   "source": [
    "folders = glob('.././signals/*')\n",
    "for folder in folders:  \n",
    "#     os.mkdir(os.path.join(folder, 'bw'))\n",
    "#     os.mkdir(os.path.join(folder, 'red'))\n",
    "#     os.mkdir(os.path.join(folder, 'green'))\n",
    "#     os.mkdir(os.path.join(folder, 'blue'))\n",
    "    \n",
    "    #inpath = os.path.join(folder, 'img')\n",
    "    inpath = os.path.join(folder, 'sample_signal')\n",
    "    \n",
    "    images = glob(inpath + '/*')\n",
    "    for i in range(len(images)):\n",
    "        im1 = plt.imread(images[i - 1])\n",
    "        im2 = plt.imread(images[i])\n",
    "        \n",
    "        bw_diff = lums_diff(im1, im2)\n",
    "        r_diff, g_diff, b_diff = rgb_diff(im1, im2)\n",
    "        \n",
    "        outfname = os.path.basename(images[i - 1])\n",
    "\n",
    "        plt.imsave(os.path.join(folder, 'bw', outfname),   bw_diff)\n",
    "        plt.imsave(os.path.join(folder, 'red', outfname),   r_diff)\n",
    "        plt.imsave(os.path.join(folder, 'green', outfname), g_diff)\n",
    "        plt.imsave(os.path.join(folder, 'blue', outfname),  b_diff)\n",
    "        \n",
    "        "
   ]
  }
 ],
 "metadata": {
  "kernelspec": {
   "display_name": "Python 2",
   "language": "python",
   "name": "python2"
  },
  "language_info": {
   "codemirror_mode": {
    "name": "ipython",
    "version": 2
   },
   "file_extension": ".py",
   "mimetype": "text/x-python",
   "name": "python",
   "nbconvert_exporter": "python",
   "pygments_lexer": "ipython2",
   "version": "2.7.6"
  }
 },
 "nbformat": 4,
 "nbformat_minor": 0
}
