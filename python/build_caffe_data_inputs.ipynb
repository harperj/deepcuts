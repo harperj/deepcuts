{
 "cells": [
  {
   "cell_type": "code",
   "execution_count": 221,
   "metadata": {
    "collapsed": false
   },
   "outputs": [],
   "source": [
    "#get all shot annotation csvs\n",
    "#get the files\n",
    "\n",
    "from os import listdir\n",
    "from os.path import isfile, isdir, join, basename, splitext\n",
    "CSV_PATH = \"/Users/alexhall/Documents/\" + \\\n",
    "       \"Coursework/computerVision/finalProject/shot_annot/csv/\"\n",
    "files = [f for f in listdir(CSV_PATH) if isfile(join(CSV_PATH, f)) and f[0] != '.']\n",
    "\n",
    "#Debug check: did the files load?\n",
    "#len(files)\n",
    "#print(files)"
   ]
  },
  {
   "cell_type": "code",
   "execution_count": 137,
   "metadata": {
    "collapsed": false
   },
   "outputs": [],
   "source": [
    "#class to hold information from the csv\n",
    "class ShotAnnotation:\n",
    "    def __init__(self, mov, style, pre_frame, post_frame):\n",
    "        self.mov = mov\n",
    "        self.style = style\n",
    "        self.pre_frame = pre_frame\n",
    "        self.post_frame = post_frame\n",
    "                \n",
    "    def __repr__(self):\n",
    "        return \"PatternLocation()\"\n",
    "        \n",
    "    def __str__(self):\n",
    "        string = ''\n",
    "        buffer = ',  '\n",
    "        for v in vars(self):\n",
    "            string += v + ':' + getattr(self, v) + buffer\n",
    "        return str(string[:-len(buffer)])\n",
    "    \n",
    "#debug tests\n",
    "#test_annot = ShotAnnotation('movie', 'CUT', '10', '15')\n",
    "#print(test_annot)"
   ]
  },
  {
   "cell_type": "code",
   "execution_count": 189,
   "metadata": {
    "collapsed": false
   },
   "outputs": [],
   "source": [
    "#Read shot_annot csv files\n",
    "\n",
    "# Dictionary of all movies\n",
    "# Each movie will have a list of ShotAnnotations\n",
    "# read the files into dictionary\n",
    "import csv\n",
    "annotations = {}\n",
    "annot_arrays = {}\n",
    "colNames = ['style', 'pre_frame', 'post_frame']\n",
    "\n",
    "for f in files:\n",
    "    full_path = CSV_PATH + f\n",
    "    name = (basename(f)).split('.')[0] #get only movie title\n",
    "    annotations[name] = []\n",
    "    annot_arrays[name] = {}\n",
    "    with open(CSV_PATH + f, 'rt') as csvfile:\n",
    "        reader = csv.reader(csvfile, delimiter=',')\n",
    "        next(reader)    \n",
    "        idx = 0\n",
    "        for row in reader:\n",
    "            new_annot = ShotAnnotation(f, row[0], row[1], row[2])\n",
    "            annotations[name].append(new_annot)\n",
    "            for idx in range(int(row[1]), int(row[2]) + 1):\n",
    "                annot_arrays[name][idx] = 1\n",
    "            \n",
    "#Debug check: did the dictionary populate as expected?        \n",
    "#print(annot_arrays['anni005'])\n",
    "#print(type(dictionary['brokenFlowers']))\n",
    "            \n",
    "\n"
   ]
  },
  {
   "cell_type": "code",
   "execution_count": 190,
   "metadata": {
    "collapsed": true
   },
   "outputs": [],
   "source": [
    "#get all signal files for movie in directory\n",
    "def get_frames(directory, signal_name):\n",
    "    path = directory + '/' + signal_name\n",
    "    dir_files = [f for f in listdir(path) if isfile(join(path, f)) and f[0] != '.']\n",
    "    return dir_files"
   ]
  },
  {
   "cell_type": "code",
   "execution_count": 191,
   "metadata": {
    "collapsed": false
   },
   "outputs": [],
   "source": [
    "#build dictionary of all frame lists\n",
    "def get_all_frames(directories, signal_name, path):\n",
    "    all_frames = {}\n",
    "    for d in directories:\n",
    "        all_frames[d] = get_frames(path + d, signal_name)\n",
    "        \n",
    "    return all_frames\n",
    "        "
   ]
  },
  {
   "cell_type": "code",
   "execution_count": 192,
   "metadata": {
    "collapsed": false
   },
   "outputs": [],
   "source": [
    "#get a dictionary with classifications per filename\n",
    "def get_classifications(directory, frames, signal, path):\n",
    "    class_dict = {}\n",
    "    for f in frames:\n",
    "        key = path + signal + '/' + directory + '/' + f\n",
    "        f_name = basename(f).split('.')[0]\n",
    "        val = annot_arrays[directory].get(int(f_name), 0)\n",
    "        class_dict[key] = val\n",
    "        return class_dict"
   ]
  },
  {
   "cell_type": "code",
   "execution_count": 193,
   "metadata": {
    "collapsed": true
   },
   "outputs": [],
   "source": [
    "#build dictionary of all movies and their frame classifications\n",
    "def get_all_classifications(directories, frames, signal, path):\n",
    "    classifications = {}\n",
    "    for d in directories:\n",
    "        val = get_classifications(d, frames[d], signal, path)\n",
    "        classifications[d] = val\n",
    "        \n",
    "    return classifications\n",
    "        "
   ]
  },
  {
   "cell_type": "code",
   "execution_count": 201,
   "metadata": {
    "collapsed": false
   },
   "outputs": [
    {
     "name": "stdout",
     "output_type": "stream",
     "text": [
      "{'anni005': {'/Users/alexhall/Documents/Coursework/computerVision/finalProject/deepcuts/signals/sample_signal/anni005/000001.jpg': 0}}\n"
     ]
    }
   ],
   "source": [
    "#read signal directory\n",
    "#for each movie, build a dictionary frame_num:is_shot\n",
    "#use directory contents to get frame nums\n",
    "#reference shotness from csv files. \n",
    "#add black 'end frame' to each movie\n",
    "\n",
    "from os import listdir\n",
    "from os.path import isfile, join, basename, splitext\n",
    "path = \"/Users/alexhall/Documents/\" + \\\n",
    "       \"Coursework/computerVision/finalProject/deepcuts/signals/\"\n",
    "directories = [d for d in listdir(path) if isdir(join(path, d)) and d[0] != '.']\n",
    "\n",
    "#Debug check: did the files load?\n",
    "#len(files)\n",
    "#print(directories[0])\n",
    "test = get_all_frames(directories, 'sample_signal', path)\n",
    "#print(test)\n",
    "all_classes = get_all_classifications(directories, test, 'sample_signal', path)\n",
    "print(test_class)"
   ]
  },
  {
   "cell_type": "code",
   "execution_count": 211,
   "metadata": {
    "collapsed": false
   },
   "outputs": [],
   "source": [
    "#Write a text file with the following format\n",
    "#../relative/path_to/directory/file.jpg CLASS_NUMBER\n",
    "\n",
    "DATA_PATH = '/Users/alexhall/Documents/Coursework/computerVision/finalProject'\n",
    "full_path = DATA_PATH + '/' + 'data_1.txt'\n",
    "with open(full_path, mode='w', encoding = 'utf-8') as a_file:\n",
    "    for mov in all_classes:\n",
    "        for file in classes[mov]:\n",
    "            a_file.write(file + ' ' + str(classes[mov][file]))\n"
   ]
  },
  {
   "cell_type": "code",
   "execution_count": 220,
   "metadata": {
    "collapsed": false
   },
   "outputs": [],
   "source": [
    "#copy file created before\n",
    "#delete first line\n",
    "\n",
    "#TODO: add additional black 'end frame' reference to maintain parity\n",
    "\n",
    "my_file = open(full_path)\n",
    "lines = my_file.readlines()[1:]\n",
    "full_path_2 = DATA_PATH + '/' + 'data_2.txt'\n",
    "\n",
    "with open(full_path_2, mode='w', encoding = 'utf-8') as output:\n",
    "    for item in lines:\n",
    "        output.write(\"%s\\n\" % item)\n",
    "\n",
    "\n",
    "    \n",
    "    \n",
    "\n"
   ]
  },
  {
   "cell_type": "code",
   "execution_count": null,
   "metadata": {
    "collapsed": true
   },
   "outputs": [],
   "source": []
  }
 ],
 "metadata": {
  "kernelspec": {
   "display_name": "Python 3",
   "language": "python",
   "name": "python3"
  },
  "language_info": {
   "codemirror_mode": {
    "name": "ipython",
    "version": 3
   },
   "file_extension": ".py",
   "mimetype": "text/x-python",
   "name": "python",
   "nbconvert_exporter": "python",
   "pygments_lexer": "ipython3",
   "version": "3.4.3"
  }
 },
 "nbformat": 4,
 "nbformat_minor": 0
}
